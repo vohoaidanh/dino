{
 "cells": [
  {
   "cell_type": "code",
   "execution_count": 1,
   "metadata": {
    "colab": {
     "base_uri": "https://localhost:8080/"
    },
    "id": "uuDoW1hMWyl_",
    "outputId": "a813b6d2-85e4-43e9-9c33-29f93e2079eb"
   },
   "outputs": [
    {
     "name": "stdout",
     "output_type": "stream",
     "text": [
      "Cloning into 'dino'...\n",
      "remote: Enumerating objects: 175, done.\u001b[K\n",
      "remote: Total 175 (delta 0), reused 0 (delta 0), pack-reused 175 (from 1)\u001b[K\n",
      "Receiving objects: 100% (175/175), 24.47 MiB | 20.52 MiB/s, done.\n",
      "Resolving deltas: 100% (100/100), done.\n"
     ]
    }
   ],
   "source": [
    "!git clone https://github.com/facebookresearch/dino.git"
   ]
  },
  {
   "cell_type": "code",
   "execution_count": null,
   "metadata": {},
   "outputs": [],
   "source": [
    "USE_COLAB = False\n",
    "WORKING_DIR = 'workspace'\n",
    "if USE_COLAB:\n",
    "    WORKING_DIR = 'content'\n"
   ]
  },
  {
   "cell_type": "code",
   "execution_count": 2,
   "metadata": {
    "colab": {
     "base_uri": "https://localhost:8080/"
    },
    "id": "IeXQjawJXD-i",
    "outputId": "d11475ed-65f5-4ea8-cf19-cf60cb214b24"
   },
   "outputs": [
    {
     "name": "stdout",
     "output_type": "stream",
     "text": [
      "/content/dino\n"
     ]
    }
   ],
   "source": [
    "%cd /content/dino"
   ]
  },
  {
   "cell_type": "code",
   "execution_count": null,
   "metadata": {},
   "outputs": [],
   "source": [
    "#Download Train, val set\n",
    "import gdown\n",
    "file_id = '1JBDx2BPVSoADxhLFMJpd8zSFQyD_SVvI' #Progan train/val 4 class [car, cat, chair, horse] 13Gb\n",
    "#file_id = '1cyGbozooewAt6pNH9gw2_sDMM-Locqh2' #Progan train/val 4 class [car, cat, chair, horse]\n",
    "destination = f'/{WORKING_DIR}/Progan_train.zip'  # Desired file name and extension\n",
    "# Construct the download URL\n",
    "url = f'https://drive.google.com/uc?id={file_id}'\n",
    "# Download the file\n",
    "gdown.download(url, destination, quiet=False)\n",
    "#Unzip\n",
    "!mkdir /$WORKING_DIR/datasets\n",
    "!unzip -q $destination -d /$WORKING_DIR/datasets/ForenSynths_train"
   ]
  },
  {
   "cell_type": "code",
   "execution_count": null,
   "metadata": {},
   "outputs": [],
   "source": [
    "!python prepare_dataset.py --root_folder /$WORKING_DIR/datasets/ForenSynths_train --output_folder /$WORKING_DIR/datasets/ForenSynths_train"
   ]
  },
  {
   "cell_type": "code",
   "execution_count": null,
   "metadata": {
    "id": "ItjrkA8JXHV3"
   },
   "outputs": [],
   "source": [
    "import torch\n",
    "!python main_dino.py --arch vit_small --data_path /$WORKING_DIR/dataset/train --output_dir /$WORKING_DIR/dino/saving_dir\n",
    "#python -m torch.distributed.launch --nproc_per_node=8 main_dino.py --arch vit_small --data_path /$WORKING_DIR/dataset/train --output_dir /$WORKING_DIR/dino/saving_dir"
   ]
  }
 ],
 "metadata": {
  "accelerator": "GPU",
  "colab": {
   "gpuType": "T4",
   "provenance": []
  },
  "kernelspec": {
   "display_name": "Python 3 (Spyder)",
   "language": "python3",
   "name": "python3"
  },
  "language_info": {
   "codemirror_mode": {
    "name": "ipython",
    "version": 3
   },
   "file_extension": ".py",
   "mimetype": "text/x-python",
   "name": "python",
   "nbconvert_exporter": "python",
   "pygments_lexer": "ipython3",
   "version": "3.10.13"
  }
 },
 "nbformat": 4,
 "nbformat_minor": 4
}
